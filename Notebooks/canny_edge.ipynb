{
 "cells": [
  {
   "cell_type": "code",
   "execution_count": 19,
   "id": "71427325",
   "metadata": {},
   "outputs": [],
   "source": [
    "import cv2\n",
    "import numpy as np"
   ]
  },
  {
   "cell_type": "markdown",
   "id": "c2136948",
   "metadata": {},
   "source": [
    "# Method Definitions"
   ]
  },
  {
   "cell_type": "code",
   "execution_count": 387,
   "id": "30319f8a",
   "metadata": {},
   "outputs": [],
   "source": [
    "def render(image, win_name=\"MyWindow\"):\n",
    "    cv2.imshow(win_name, image)\n",
    "    cv2.waitKey(0)\n",
    "    cv2.destroyWindow(win_name)"
   ]
  },
  {
   "cell_type": "code",
   "execution_count": 158,
   "id": "db14f5fe",
   "metadata": {},
   "outputs": [],
   "source": [
    "def compare(image1, image2):\n",
    "    scale = .5\n",
    "    image1_r = cv2.resize(image1, None, fx=scale, fy=scale, interpolation=cv2.INTER_LINEAR)\n",
    "    image2_r = cv2.resize(image2, None, fx=scale, fy=scale, interpolation=cv2.INTER_LINEAR)\n",
    "    compare = np.concat((image1, image2), axis=1)\n",
    "    render(compare)"
   ]
  },
  {
   "cell_type": "code",
   "execution_count": 159,
   "id": "4024c3e9",
   "metadata": {},
   "outputs": [],
   "source": [
    "def region_of_interest(image):\n",
    "    height = image.shape[0]\n",
    "    polygons = np.array([[(200, height), (1100, height), (550, 250)]])\n",
    "    mask = np.zeros_like(image)\n",
    "    cv2.fillPoly(mask, polygons, 255)\n",
    "    masked_image = cv2.bitwise_and(image, mask)\n",
    "    return masked_image"
   ]
  },
  {
   "cell_type": "code",
   "execution_count": 160,
   "id": "b9bfaa2b",
   "metadata": {},
   "outputs": [],
   "source": [
    "def make_coordinates(image, line_parameters):\n",
    "    slope, intercept = line_parameters\n",
    "    y1 = image.shape[0]\n",
    "    y2 = int(y1*(3/5))\n",
    "    x1 = int((y1 - intercept)/slope)\n",
    "    x2 = int((y2 - intercept)/slope)\n",
    "    return np.array([x1, y1, x2, y2])"
   ]
  },
  {
   "cell_type": "code",
   "execution_count": 353,
   "id": "02fedb22",
   "metadata": {},
   "outputs": [],
   "source": [
    "def average_slope_intercept(image, lines):\n",
    "    left_fit = []\n",
    "    right_fit = []\n",
    "    for line in lines:\n",
    "        x1, y1, x2, y2 = line.reshape(4)\n",
    "        parameters = np.polyfit((x1, x2), (y1, y2), 1)\n",
    "        slope = parameters[0]\n",
    "        intercept = parameters[1]\n",
    "        if slope < 0:\n",
    "            left_fit.append((slope, intercept))\n",
    "        else:\n",
    "            right_fit.append((slope, intercept))\n",
    "    left_fit_average = np.average(left_fit, axis=0)\n",
    "    right_fit_average = np.average(right_fit, axis=0)\n",
    "    left_line = make_coordinates(image, left_fit_average)\n",
    "    right_line = make_coordinates(image, right_fit_average)\n",
    "    return np.array([left_line, right_line])"
   ]
  },
  {
   "cell_type": "code",
   "execution_count": 389,
   "id": "e3d5deec",
   "metadata": {},
   "outputs": [],
   "source": [
    "def region_of_interest(image, render_mask=False):\n",
    "    height = image.shape[0]\n",
    "    width = image.shape[1]\n",
    "    polygons = np.array([[[0, height], [width, height], [width/2, height/2]]], dtype=np.int32)\n",
    "    mask = np.zeros_like(image)\n",
    "    cv2.fillPoly(mask, polygons, 255)\n",
    "    if render_mask: render(cv2.addWeighted(mask, 0.3, image, 1, 0), \"Region of Interest Mask\")\n",
    "    masked_image = cv2.bitwise_and(image, mask)\n",
    "    return masked_image"
   ]
  },
  {
   "cell_type": "code",
   "execution_count": 404,
   "id": "3607dafd",
   "metadata": {},
   "outputs": [],
   "source": [
    "def detect_lanes(image, render_steps=False):\n",
    "    lanes_image = np.copy(image)\n",
    "    if render_steps:\n",
    "        render(lanes_image, \"Original\")\n",
    "    lanes_image = cv2.cvtColor(lanes_image, cv2.COLOR_RGB2GRAY)\n",
    "    if render_steps:\n",
    "        render(lanes_image, \"Grayscale\")\n",
    "    lanes_image = cv2.GaussianBlur(lanes_image, (5, 5), 0)\n",
    "    if render_steps:\n",
    "        render(lanes_image, \"Gaussian Blur\")\n",
    "    lanes_image = cv2.Canny(lanes_image, 50, 150)\n",
    "    if render_steps:\n",
    "        render(lanes_image, \"Canny\")\n",
    "    lanes_image = region_of_interest(lanes_image, True)\n",
    "    if render_steps:\n",
    "        render(lanes_image, \"Region of Interest\")\n",
    "    lines = cv2.HoughLinesP(lanes_image, 2, np.pi/180, 100, np.array([]), minLineLength=40, maxLineGap=5)\n",
    "    lines = average_slope_intercept(lanes_image, lines)\n",
    "    lines_image = np.zeros_like(image)\n",
    "    for line in lines:\n",
    "        x1, y1, x2, y2 = line.flatten()\n",
    "        cv2.line(lines_image, (x1, y1), (x2, y2), (255, 0, 255), 10)\n",
    "    return cv2.addWeighted(image, 0.6, lines_image, 1, 1)"
   ]
  },
  {
   "cell_type": "markdown",
   "id": "8e0f3837",
   "metadata": {},
   "source": [
    "# Testing"
   ]
  },
  {
   "cell_type": "code",
   "execution_count": 378,
   "id": "9526ee53",
   "metadata": {},
   "outputs": [],
   "source": [
    "image1 = cv2.imread(\"../Data/test1.jpg\")"
   ]
  },
  {
   "cell_type": "code",
   "execution_count": 413,
   "id": "ae29c3af",
   "metadata": {},
   "outputs": [],
   "source": [
    "render(detect_lanes(image1, render_steps=True))"
   ]
  },
  {
   "cell_type": "code",
   "execution_count": 405,
   "id": "f4865d41",
   "metadata": {},
   "outputs": [],
   "source": [
    "image2 = cv2.imread(\"../Data/test2.webp\")"
   ]
  },
  {
   "cell_type": "code",
   "execution_count": 406,
   "id": "2bfe37b7",
   "metadata": {},
   "outputs": [],
   "source": [
    "render(image2)"
   ]
  },
  {
   "cell_type": "code",
   "execution_count": 414,
   "id": "1c1ecedd",
   "metadata": {},
   "outputs": [],
   "source": [
    "render(detect_lanes(image2, True))"
   ]
  }
 ],
 "metadata": {
  "kernelspec": {
   "display_name": "lane_det",
   "language": "python",
   "name": "python3"
  },
  "language_info": {
   "codemirror_mode": {
    "name": "ipython",
    "version": 3
   },
   "file_extension": ".py",
   "mimetype": "text/x-python",
   "name": "python",
   "nbconvert_exporter": "python",
   "pygments_lexer": "ipython3",
   "version": "3.11.13"
  }
 },
 "nbformat": 4,
 "nbformat_minor": 5
}
